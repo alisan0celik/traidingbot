{
 "cells": [
  {
   "cell_type": "markdown",
   "metadata": {},
   "source": [
    "### 1 - Import test data"
   ]
  },
  {
   "cell_type": "code",
   "execution_count": 1,
   "metadata": {},
   "outputs": [
    {
     "name": "stdout",
     "output_type": "stream",
     "text": [
      "Requirement already satisfied: yfinance in c:\\users\\casper\\anaconda3\\lib\\site-packages (0.2.22)\n",
      "Requirement already satisfied: multitasking>=0.0.7 in c:\\users\\casper\\anaconda3\\lib\\site-packages (from yfinance) (0.0.11)\n",
      "Requirement already satisfied: frozendict>=2.3.4 in c:\\users\\casper\\anaconda3\\lib\\site-packages (from yfinance) (2.3.8)\n",
      "Requirement already satisfied: appdirs>=1.4.4 in c:\\users\\casper\\anaconda3\\lib\\site-packages (from yfinance) (1.4.4)\n",
      "Requirement already satisfied: pandas>=1.3.0 in c:\\users\\casper\\anaconda3\\lib\\site-packages (from yfinance) (1.5.3)\n",
      "Requirement already satisfied: pytz>=2022.5 in c:\\users\\casper\\anaconda3\\lib\\site-packages (from yfinance) (2022.7)\n",
      "Requirement already satisfied: numpy>=1.16.5 in c:\\users\\casper\\anaconda3\\lib\\site-packages (from yfinance) (1.23.5)\n",
      "Requirement already satisfied: beautifulsoup4>=4.11.1 in c:\\users\\casper\\anaconda3\\lib\\site-packages (from yfinance) (4.11.1)\n",
      "Requirement already satisfied: html5lib>=1.1 in c:\\users\\casper\\anaconda3\\lib\\site-packages (from yfinance) (1.1)\n",
      "Requirement already satisfied: lxml>=4.9.1 in c:\\users\\casper\\anaconda3\\lib\\site-packages (from yfinance) (4.9.1)\n",
      "Requirement already satisfied: requests>=2.26 in c:\\users\\casper\\anaconda3\\lib\\site-packages (from yfinance) (2.28.1)\n",
      "Requirement already satisfied: soupsieve>1.2 in c:\\users\\casper\\anaconda3\\lib\\site-packages (from beautifulsoup4>=4.11.1->yfinance) (2.3.2.post1)\n",
      "Requirement already satisfied: webencodings in c:\\users\\casper\\anaconda3\\lib\\site-packages (from html5lib>=1.1->yfinance) (0.5.1)\n",
      "Requirement already satisfied: six>=1.9 in c:\\users\\casper\\anaconda3\\lib\\site-packages (from html5lib>=1.1->yfinance) (1.16.0)\n",
      "Requirement already satisfied: python-dateutil>=2.8.1 in c:\\users\\casper\\anaconda3\\lib\\site-packages (from pandas>=1.3.0->yfinance) (2.8.2)\n",
      "Requirement already satisfied: idna<4,>=2.5 in c:\\users\\casper\\anaconda3\\lib\\site-packages (from requests>=2.26->yfinance) (3.4)\n",
      "Requirement already satisfied: certifi>=2017.4.17 in c:\\users\\casper\\anaconda3\\lib\\site-packages (from requests>=2.26->yfinance) (2023.5.7)\n",
      "Requirement already satisfied: urllib3<1.27,>=1.21.1 in c:\\users\\casper\\anaconda3\\lib\\site-packages (from requests>=2.26->yfinance) (1.26.14)\n",
      "Requirement already satisfied: charset-normalizer<3,>=2 in c:\\users\\casper\\anaconda3\\lib\\site-packages (from requests>=2.26->yfinance) (2.0.4)\n"
     ]
    }
   ],
   "source": [
    "!pip install yfinance  \n",
    "\n"
   ]
  },
  {
   "cell_type": "code",
   "execution_count": 61,
   "metadata": {},
   "outputs": [
    {
     "name": "stdout",
     "output_type": "stream",
     "text": [
      "Requirement already satisfied: DateTime in c:\\users\\casper\\anaconda3\\lib\\site-packages (5.2)\n",
      "Requirement already satisfied: pytz in c:\\users\\casper\\anaconda3\\lib\\site-packages (from DateTime) (2022.7)\n",
      "Requirement already satisfied: zope.interface in c:\\users\\casper\\anaconda3\\lib\\site-packages (from DateTime) (5.4.0)\n",
      "Requirement already satisfied: setuptools in c:\\users\\casper\\anaconda3\\lib\\site-packages (from zope.interface->DateTime) (65.6.3)\n"
     ]
    }
   ],
   "source": [
    "!pip install DateTime"
   ]
  },
  {
   "cell_type": "code",
   "execution_count": 64,
   "metadata": {},
   "outputs": [],
   "source": [
    "from tkinter import *\n",
    "from tkinter import messagebox\n",
    "def sending():\n",
    "    last_message=text_area.get(\"1.0\",\"end\")\n",
    "    file=open(\"coin_name.txt\",\"w\")\n",
    "    file.write(last_message)\n",
    "    file.close\n",
    "    \n",
    "    master.destroy()\n",
    "    return\n",
    "    \n",
    "\n",
    "\n",
    "master=Tk()\n",
    "canvas=Canvas(master,height=450,width=750)\n",
    "canvas.pack()\n",
    "frame_top= Frame (master,bg='#add8e6')\n",
    "frame_top.place(relx=0.1, rely=0.1,relwidth=0.8,relheight=0.1 )\n",
    "frame_down= Frame (master,bg='#add8e6')\n",
    "frame_down.place(relx=0.1, rely=0.25,relwidth=0.8,relheight=0.6) \n",
    "coin=Label(frame_top, bg='#add8e6', text= \"Stock and Coin\",font=\"Verdana 12 bold\")\n",
    "coin.pack()\n",
    "coin_area=Label(frame_down, text=\"Enter Coins or Stock Tickers\",bg='#add8e6',font=\"Verdana 12 bold\")\n",
    "coin_area.pack()\n",
    "text_area=Text(frame_down,height=9,width=50)\n",
    "text_area.tag_configure('style', foreground= '#bfbfbf', font=('Verdana',7,'bold'))\n",
    "text_area.pack()\n",
    "send_button=Button(frame_down, text=\"Send\",command=sending)\n",
    "send_button.pack(anchor=S)\n",
    "master.mainloop()"
   ]
  },
  {
   "cell_type": "code",
   "execution_count": 65,
   "metadata": {},
   "outputs": [
    {
     "name": "stdout",
     "output_type": "stream",
     "text": [
      "[*********************100%***********************]  1 of 1 completed\n"
     ]
    },
    {
     "data": {
      "text/html": [
       "<div>\n",
       "<style scoped>\n",
       "    .dataframe tbody tr th:only-of-type {\n",
       "        vertical-align: middle;\n",
       "    }\n",
       "\n",
       "    .dataframe tbody tr th {\n",
       "        vertical-align: top;\n",
       "    }\n",
       "\n",
       "    .dataframe thead th {\n",
       "        text-align: right;\n",
       "    }\n",
       "</style>\n",
       "<table border=\"1\" class=\"dataframe\">\n",
       "  <thead>\n",
       "    <tr style=\"text-align: right;\">\n",
       "      <th></th>\n",
       "      <th>Open</th>\n",
       "      <th>High</th>\n",
       "      <th>Low</th>\n",
       "      <th>Close</th>\n",
       "      <th>Adj Close</th>\n",
       "      <th>Volume</th>\n",
       "    </tr>\n",
       "    <tr>\n",
       "      <th>Datetime</th>\n",
       "      <th></th>\n",
       "      <th></th>\n",
       "      <th></th>\n",
       "      <th></th>\n",
       "      <th></th>\n",
       "      <th></th>\n",
       "    </tr>\n",
       "  </thead>\n",
       "  <tbody>\n",
       "    <tr>\n",
       "      <th>2023-05-29 00:00:00</th>\n",
       "      <td>1.072271</td>\n",
       "      <td>1.072731</td>\n",
       "      <td>1.072156</td>\n",
       "      <td>1.072616</td>\n",
       "      <td>1.072616</td>\n",
       "      <td>0</td>\n",
       "    </tr>\n",
       "    <tr>\n",
       "      <th>2023-05-29 00:15:00</th>\n",
       "      <td>1.072501</td>\n",
       "      <td>1.072961</td>\n",
       "      <td>1.072501</td>\n",
       "      <td>1.072616</td>\n",
       "      <td>1.072616</td>\n",
       "      <td>0</td>\n",
       "    </tr>\n",
       "    <tr>\n",
       "      <th>2023-05-29 00:30:00</th>\n",
       "      <td>1.072501</td>\n",
       "      <td>1.072846</td>\n",
       "      <td>1.072501</td>\n",
       "      <td>1.072846</td>\n",
       "      <td>1.072846</td>\n",
       "      <td>0</td>\n",
       "    </tr>\n",
       "    <tr>\n",
       "      <th>2023-05-29 00:45:00</th>\n",
       "      <td>1.072501</td>\n",
       "      <td>1.072961</td>\n",
       "      <td>1.072501</td>\n",
       "      <td>1.072501</td>\n",
       "      <td>1.072501</td>\n",
       "      <td>0</td>\n",
       "    </tr>\n",
       "    <tr>\n",
       "      <th>2023-05-29 01:00:00</th>\n",
       "      <td>1.072386</td>\n",
       "      <td>1.072731</td>\n",
       "      <td>1.072156</td>\n",
       "      <td>1.072271</td>\n",
       "      <td>1.072271</td>\n",
       "      <td>0</td>\n",
       "    </tr>\n",
       "    <tr>\n",
       "      <th>...</th>\n",
       "      <td>...</td>\n",
       "      <td>...</td>\n",
       "      <td>...</td>\n",
       "      <td>...</td>\n",
       "      <td>...</td>\n",
       "      <td>...</td>\n",
       "    </tr>\n",
       "    <tr>\n",
       "      <th>2023-07-25 22:45:00</th>\n",
       "      <td>1.105950</td>\n",
       "      <td>1.106072</td>\n",
       "      <td>1.105828</td>\n",
       "      <td>1.106072</td>\n",
       "      <td>1.106072</td>\n",
       "      <td>0</td>\n",
       "    </tr>\n",
       "    <tr>\n",
       "      <th>2023-07-25 23:00:00</th>\n",
       "      <td>1.105950</td>\n",
       "      <td>1.105950</td>\n",
       "      <td>1.105461</td>\n",
       "      <td>1.105461</td>\n",
       "      <td>1.105461</td>\n",
       "      <td>0</td>\n",
       "    </tr>\n",
       "    <tr>\n",
       "      <th>2023-07-25 23:15:00</th>\n",
       "      <td>1.105461</td>\n",
       "      <td>1.105583</td>\n",
       "      <td>1.105217</td>\n",
       "      <td>1.105583</td>\n",
       "      <td>1.105583</td>\n",
       "      <td>0</td>\n",
       "    </tr>\n",
       "    <tr>\n",
       "      <th>2023-07-25 23:30:00</th>\n",
       "      <td>1.105583</td>\n",
       "      <td>1.105583</td>\n",
       "      <td>1.105461</td>\n",
       "      <td>1.105583</td>\n",
       "      <td>1.105583</td>\n",
       "      <td>0</td>\n",
       "    </tr>\n",
       "    <tr>\n",
       "      <th>2023-07-25 23:45:00</th>\n",
       "      <td>1.105583</td>\n",
       "      <td>1.105583</td>\n",
       "      <td>1.105461</td>\n",
       "      <td>1.105461</td>\n",
       "      <td>1.105461</td>\n",
       "      <td>0</td>\n",
       "    </tr>\n",
       "  </tbody>\n",
       "</table>\n",
       "<p>3983 rows × 6 columns</p>\n",
       "</div>"
      ],
      "text/plain": [
       "                         Open      High       Low     Close  Adj Close  Volume\n",
       "Datetime                                                                      \n",
       "2023-05-29 00:00:00  1.072271  1.072731  1.072156  1.072616   1.072616       0\n",
       "2023-05-29 00:15:00  1.072501  1.072961  1.072501  1.072616   1.072616       0\n",
       "2023-05-29 00:30:00  1.072501  1.072846  1.072501  1.072846   1.072846       0\n",
       "2023-05-29 00:45:00  1.072501  1.072961  1.072501  1.072501   1.072501       0\n",
       "2023-05-29 01:00:00  1.072386  1.072731  1.072156  1.072271   1.072271       0\n",
       "...                       ...       ...       ...       ...        ...     ...\n",
       "2023-07-25 22:45:00  1.105950  1.106072  1.105828  1.106072   1.106072       0\n",
       "2023-07-25 23:00:00  1.105950  1.105950  1.105461  1.105461   1.105461       0\n",
       "2023-07-25 23:15:00  1.105461  1.105583  1.105217  1.105583   1.105583       0\n",
       "2023-07-25 23:30:00  1.105583  1.105583  1.105461  1.105583   1.105583       0\n",
       "2023-07-25 23:45:00  1.105583  1.105583  1.105461  1.105461   1.105461       0\n",
       "\n",
       "[3983 rows x 6 columns]"
      ]
     },
     "execution_count": 65,
     "metadata": {},
     "output_type": "execute_result"
    }
   ],
   "source": [
    "import yfinance as yf\n",
    "import pandas as pd\n",
    "import datetime\n",
    "from datetime import date\n",
    "coin_read=open(\"coin_name.txt\",\"r\")\n",
    "\n",
    "today=date.today()\n",
    "day=today-datetime.timedelta(days=59)\n",
    "dataF = yf.download(coin_read.read(), start=day, end=today, interval='15m')\n",
    "dataF.iloc[:,:]\n",
    "#dataF.Open.iloc"
   ]
  },
  {
   "cell_type": "markdown",
   "metadata": {},
   "source": [
    "### 2 - Define your signal function"
   ]
  },
  {
   "cell_type": "code",
   "execution_count": 66,
   "metadata": {},
   "outputs": [],
   "source": [
    "def signal_generator(df):\n",
    "    open = df.Open.iloc[-1]\n",
    "    close = df.Close.iloc[-1]\n",
    "    previous_open = df.Open.iloc[-2]\n",
    "    previous_close = df.Close.iloc[-2]\n",
    "    \n",
    "    # Bearish Pattern\n",
    "    if (open>close and \n",
    "    previous_open<previous_close and \n",
    "    close<previous_open and\n",
    "    open>=previous_close):\n",
    "        return 1\n",
    "\n",
    "    # Bullish Pattern\n",
    "    elif (open<close and \n",
    "        previous_open>previous_close and \n",
    "        close>previous_open and\n",
    "        open<=previous_close):\n",
    "        return 2\n",
    "    \n",
    "    # No clear pattern\n",
    "    else:\n",
    "        return 0\n",
    "\n",
    "signal = []\n",
    "signal.append(0)\n",
    "for i in range(1,len(dataF)):\n",
    "    df = dataF[i-1:i+1]\n",
    "    signal.append(signal_generator(df))\n",
    "#signal_generator(data)\n",
    "dataF[\"signal\"] = signal"
   ]
  },
  {
   "cell_type": "code",
   "execution_count": 67,
   "metadata": {},
   "outputs": [
    {
     "data": {
      "text/plain": [
       "0    3685\n",
       "2     152\n",
       "1     146\n",
       "Name: signal, dtype: int64"
      ]
     },
     "execution_count": 67,
     "metadata": {},
     "output_type": "execute_result"
    }
   ],
   "source": [
    "dataF.signal.value_counts()\n",
    "#dataF.iloc[:, :]"
   ]
  },
  {
   "cell_type": "markdown",
   "metadata": {},
   "source": [
    "### 3 - Connect to the market and execute trades"
   ]
  },
  {
   "cell_type": "code",
   "execution_count": 6,
   "metadata": {},
   "outputs": [
    {
     "name": "stdout",
     "output_type": "stream",
     "text": [
      "Requirement already satisfied: APScheduler in c:\\users\\casper\\anaconda3\\lib\\site-packages (3.10.1)\n",
      "Requirement already satisfied: tzlocal!=3.*,>=2.0 in c:\\users\\casper\\anaconda3\\lib\\site-packages (from APScheduler) (5.0.1)\n",
      "Requirement already satisfied: setuptools>=0.7 in c:\\users\\casper\\anaconda3\\lib\\site-packages (from APScheduler) (65.6.3)\n",
      "Requirement already satisfied: pytz in c:\\users\\casper\\anaconda3\\lib\\site-packages (from APScheduler) (2022.7)\n",
      "Requirement already satisfied: six>=1.4.0 in c:\\users\\casper\\anaconda3\\lib\\site-packages (from APScheduler) (1.16.0)\n",
      "Requirement already satisfied: tzdata in c:\\users\\casper\\anaconda3\\lib\\site-packages (from tzlocal!=3.*,>=2.0->APScheduler) (2023.3)\n"
     ]
    }
   ],
   "source": [
    "!pip install APScheduler"
   ]
  },
  {
   "cell_type": "code",
   "execution_count": 7,
   "metadata": {},
   "outputs": [
    {
     "name": "stdout",
     "output_type": "stream",
     "text": [
      "Requirement already satisfied: oandapyV20 in c:\\users\\casper\\anaconda3\\lib\\site-packages (0.6.3)\n"
     ]
    }
   ],
   "source": [
    "!pip install oandapyV20"
   ]
  },
  {
   "cell_type": "code",
   "execution_count": 8,
   "metadata": {},
   "outputs": [
    {
     "name": "stdout",
     "output_type": "stream",
     "text": [
      "Requirement already satisfied: oanda-candles in c:\\users\\casper\\anaconda3\\lib\\site-packages (0.1.0)\n",
      "Requirement already satisfied: oandapyV20<0.7.0,>=0.6.3 in c:\\users\\casper\\anaconda3\\lib\\site-packages (from oanda-candles) (0.6.3)\n",
      "Requirement already satisfied: forex-types<0.0.7,>=0.0.6 in c:\\users\\casper\\anaconda3\\lib\\site-packages (from oanda-candles) (0.0.6)\n",
      "Requirement already satisfied: time-int<0.0.10,>=0.0.9 in c:\\users\\casper\\anaconda3\\lib\\site-packages (from oanda-candles) (0.0.9)\n",
      "Requirement already satisfied: requests<3.0.0,>=2.23.0 in c:\\users\\casper\\anaconda3\\lib\\site-packages (from oanda-candles) (2.28.1)\n",
      "Requirement already satisfied: magic-kind<0.3.0,>=0.2.2 in c:\\users\\casper\\anaconda3\\lib\\site-packages (from oanda-candles) (0.2.2)\n",
      "Requirement already satisfied: idna<4,>=2.5 in c:\\users\\casper\\anaconda3\\lib\\site-packages (from requests<3.0.0,>=2.23.0->oanda-candles) (3.4)\n",
      "Requirement already satisfied: charset-normalizer<3,>=2 in c:\\users\\casper\\anaconda3\\lib\\site-packages (from requests<3.0.0,>=2.23.0->oanda-candles) (2.0.4)\n",
      "Requirement already satisfied: urllib3<1.27,>=1.21.1 in c:\\users\\casper\\anaconda3\\lib\\site-packages (from requests<3.0.0,>=2.23.0->oanda-candles) (1.26.14)\n",
      "Requirement already satisfied: certifi>=2017.4.17 in c:\\users\\casper\\anaconda3\\lib\\site-packages (from requests<3.0.0,>=2.23.0->oanda-candles) (2023.5.7)\n",
      "Requirement already satisfied: pytest<6.0.0,>=5.4.2 in c:\\users\\casper\\anaconda3\\lib\\site-packages (from time-int<0.0.10,>=0.0.9->oanda-candles) (5.4.3)\n",
      "Requirement already satisfied: packaging in c:\\users\\casper\\anaconda3\\lib\\site-packages (from pytest<6.0.0,>=5.4.2->time-int<0.0.10,>=0.0.9->oanda-candles) (22.0)\n",
      "Requirement already satisfied: colorama in c:\\users\\casper\\anaconda3\\lib\\site-packages (from pytest<6.0.0,>=5.4.2->time-int<0.0.10,>=0.0.9->oanda-candles) (0.4.6)\n",
      "Requirement already satisfied: more-itertools>=4.0.0 in c:\\users\\casper\\anaconda3\\lib\\site-packages (from pytest<6.0.0,>=5.4.2->time-int<0.0.10,>=0.0.9->oanda-candles) (9.1.0)\n",
      "Requirement already satisfied: py>=1.5.0 in c:\\users\\casper\\anaconda3\\lib\\site-packages (from pytest<6.0.0,>=5.4.2->time-int<0.0.10,>=0.0.9->oanda-candles) (1.11.0)\n",
      "Requirement already satisfied: wcwidth in c:\\users\\casper\\anaconda3\\lib\\site-packages (from pytest<6.0.0,>=5.4.2->time-int<0.0.10,>=0.0.9->oanda-candles) (0.2.5)\n",
      "Requirement already satisfied: attrs>=17.4.0 in c:\\users\\casper\\anaconda3\\lib\\site-packages (from pytest<6.0.0,>=5.4.2->time-int<0.0.10,>=0.0.9->oanda-candles) (22.1.0)\n",
      "Requirement already satisfied: pluggy<1.0,>=0.12 in c:\\users\\casper\\anaconda3\\lib\\site-packages (from pytest<6.0.0,>=5.4.2->time-int<0.0.10,>=0.0.9->oanda-candles) (0.13.1)\n",
      "Requirement already satisfied: atomicwrites>=1.0 in c:\\users\\casper\\anaconda3\\lib\\site-packages (from pytest<6.0.0,>=5.4.2->time-int<0.0.10,>=0.0.9->oanda-candles) (1.4.0)\n"
     ]
    }
   ],
   "source": [
    "!pip install oanda-candles"
   ]
  },
  {
   "cell_type": "code",
   "execution_count": 68,
   "metadata": {},
   "outputs": [],
   "source": [
    "from apscheduler.schedulers.blocking import BlockingScheduler\n",
    "from oandapyV20 import API\n",
    "import oandapyV20.endpoints.orders as orders\n",
    "from oandapyV20.contrib.requests import MarketOrderRequest\n",
    "from oanda_candles import Pair, Gran, CandleClient\n",
    "from oandapyV20.contrib.requests import TakeProfitDetails, StopLossDetails"
   ]
  },
  {
   "cell_type": "code",
   "execution_count": 10,
   "metadata": {},
   "outputs": [
    {
     "name": "stdout",
     "output_type": "stream",
     "text": [
      "Requirement already satisfied: config in c:\\users\\casper\\anaconda3\\lib\\site-packages (0.5.1)\n"
     ]
    }
   ],
   "source": [
    "!pip install config"
   ]
  },
  {
   "cell_type": "code",
   "execution_count": 69,
   "metadata": {},
   "outputs": [
    {
     "name": "stdout",
     "output_type": "stream",
     "text": [
      "True\n",
      "True\n",
      "True\n"
     ]
    }
   ],
   "source": [
    "\n",
    "def get_candles(n):\n",
    "    access_token='d665cf217afa2678b7190a34ad02a367-8b55629d4aceb33566e6ae8a02f15c40'\n",
    "    client = CandleClient(access_token, real=False)\n",
    "    collector = client.get_collector(Pair.EUR_USD, Gran.M15)\n",
    "    candles = collector.grab(n)\n",
    "    return candles\n",
    "\n",
    "candles = get_candles(3)\n",
    "for candle in candles:\n",
    "    print(float(str(candle.bid.o))>1)\n"
   ]
  },
  {
   "cell_type": "code",
   "execution_count": 32,
   "metadata": {},
   "outputs": [
    {
     "name": "stdout",
     "output_type": "stream",
     "text": [
      "Collecting secure-smtplib\n",
      "  Downloading secure_smtplib-0.1.1-py2.py3-none-any.whl (3.4 kB)\n",
      "Installing collected packages: secure-smtplib\n",
      "Successfully installed secure-smtplib-0.1.1\n"
     ]
    }
   ],
   "source": [
    "!pip install secure-smtplib"
   ]
  },
  {
   "cell_type": "code",
   "execution_count": 65,
   "metadata": {},
   "outputs": [
    {
     "name": "stdout",
     "output_type": "stream",
     "text": [
      "Collecting tk\n",
      "  Downloading tk-0.1.0-py3-none-any.whl (3.9 kB)\n",
      "Installing collected packages: tk\n",
      "Successfully installed tk-0.1.0\n"
     ]
    }
   ],
   "source": [
    "!pip install tk"
   ]
  },
  {
   "cell_type": "code",
   "execution_count": 18,
   "metadata": {},
   "outputs": [],
   "source": []
  },
  {
   "cell_type": "code",
   "execution_count": 70,
   "metadata": {
    "scrolled": true
   },
   "outputs": [],
   "source": [
    "from tkinter import *\n",
    "from tkinter import messagebox\n",
    "def trading_job():\n",
    "    \n",
    "    candles = get_candles(3)\n",
    "    dfstream = pd.DataFrame(columns=['Open','Close','High','Low'])\n",
    "    \n",
    "    i=0\n",
    "    for candle in candles:\n",
    "        dfstream.loc[i, ['Open']] = float(str(candle.bid.o))\n",
    "        dfstream.loc[i, ['Close']] = float(str(candle.bid.c))\n",
    "        dfstream.loc[i, ['High']] = float(str(candle.bid.h))\n",
    "        dfstream.loc[i, ['Low']] = float(str(candle.bid.l))\n",
    "        i=i+1\n",
    "\n",
    "    dfstream['Open'] = dfstream['Open'].astype(float)\n",
    "    dfstream['Close'] = dfstream['Close'].astype(float)\n",
    "    dfstream['High'] = dfstream['High'].astype(float)\n",
    "    dfstream['Low'] = dfstream['Low'].astype(float)\n",
    "\n",
    "    signal = signal_generator(dfstream.iloc[:-1,:])#\n",
    "    \n",
    "    # EXECUTING ORDERS\n",
    "    \n",
    "         \n",
    "    SLTPRatio = 2.\n",
    "    previous_candleR = abs(dfstream['High'].iloc[-2]-dfstream['Low'].iloc[-2])\n",
    "    \n",
    "    SLBuy = float(str(candle.bid.o))-previous_candleR\n",
    "    SLSell = float(str(candle.bid.o))+previous_candleR\n",
    "\n",
    "    TPBuy = float(str(candle.bid.o))+previous_candleR*SLTPRatio\n",
    "    TPSell = float(str(candle.bid.o))-previous_candleR*SLTPRatio\n",
    "    \n",
    "    master=Tk()\n",
    "    canvas=Canvas(master,height=450,width=750)\n",
    "    canvas.pack()\n",
    "    frame_top= Frame (master,bg='#add8e6')\n",
    "    frame_top.place(relx=0.1, rely=0.1,relwidth=0.8,relheight=0.1 )\n",
    "    frame_down= Frame (master,bg='#add8e6')\n",
    "    frame_down.place(relx=0.1, rely=0.25,relwidth=0.8,relheight=0.6) \n",
    "    coin=Label(frame_top, bg='#add8e6', text= \"Stock and Coin\",font=\"Verdana 12 bold\")\n",
    "    coin.pack()\n",
    "    coin_area=Label(frame_down, text=\"Our predictions\",bg='#add8e6',font=\"Verdana 12 bold\")\n",
    "    coin_area.pack()\n",
    "    text_area=Text(frame_down,height=9,width=50)\n",
    "    text_area.tag_configure('style', foreground= '#bfbfbf', font=('Verdana',7,'bold'))\n",
    "    text_area.pack()\n",
    "    showing_text='Take profit Buy={}  \\nStop Lose buy={}  \\nTake Profit Sell={}  \\nStop Lose Sell={}'.format(TPBuy,SLBuy,TPSell,SLSell)\n",
    "    text_area.insert(END,showing_text,'style')    \n",
    "    master.mainloop()\n",
    "    "
   ]
  },
  {
   "cell_type": "markdown",
   "metadata": {},
   "source": [
    "### 4 - Executing orders automatically with a scheduler"
   ]
  },
  {
   "cell_type": "code",
   "execution_count": 71,
   "metadata": {},
   "outputs": [],
   "source": [
    "trading_job()\n",
    "\n",
    "#scheduler = BlockingScheduler()\n",
    "#scheduler.add_job(trading_job, 'cron', day_of_week='mon-fri', hour='00-23', minute='1,16,31,46', start_date='2022-01-12 12:00:00', timezone='America/Chicago')\n",
    "#scheduler.start()"
   ]
  },
  {
   "cell_type": "code",
   "execution_count": null,
   "metadata": {},
   "outputs": [],
   "source": []
  }
 ],
 "metadata": {
  "kernelspec": {
   "display_name": "Python 3 (ipykernel)",
   "language": "python",
   "name": "python3"
  },
  "language_info": {
   "codemirror_mode": {
    "name": "ipython",
    "version": 3
   },
   "file_extension": ".py",
   "mimetype": "text/x-python",
   "name": "python",
   "nbconvert_exporter": "python",
   "pygments_lexer": "ipython3",
   "version": "3.10.9"
  },
  "vscode": {
   "interpreter": {
    "hash": "c0ff92a541b5eb8a0f75470c34280cf0dea79e8b819847822bd36e33345fddf3"
   }
  }
 },
 "nbformat": 4,
 "nbformat_minor": 2
}
